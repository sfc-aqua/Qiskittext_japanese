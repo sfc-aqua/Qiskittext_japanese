{
 "cells": [
  {
   "cell_type": "markdown",
   "metadata": {},
   "source": [
    "# 3.0 Quantum Protocols and Quantum Algorithms"
   ]
  },
  {
   "cell_type": "markdown",
   "metadata": {},
   "source": [
    "## About This Section"
   ]
  },
  {
   "cell_type": "markdown",
   "metadata": {},
   "source": [
    "ここまで、量子コンピューティングの基本について説明してきました。これで、いくつかの量子プロトコルとアルゴリズムを紹介する準備が整いました。これらのアルゴリズムを通じて、最後の章の概念を実際に見て、新しいアイディアや手法を紹介します。最初に学ぶアルゴリズムのいくつかは、量子コンピュータの利点を実証するために開発された\"proof-of-concept algorithm(概念実証アルゴリズム)\"です。これらのアルゴリズムは、出発点として最適です。彼らは、量子コンピューティングについて興奮を引き起こした「有用な」アルゴリズムに後で適応された技術を紹介し、コアアイディアに最も単純な形で取り組むことを可能にします。概念実証アルゴリズムは、ハードウェアをテストする際のベンチマークとしても役立ちます。"
   ]
  }
 ],
 "metadata": {
  "kernelspec": {
   "display_name": "Python 3",
   "language": "python",
   "name": "python3"
  },
  "language_info": {
   "codemirror_mode": {
    "name": "ipython",
    "version": 3
   },
   "file_extension": ".py",
   "mimetype": "text/x-python",
   "name": "python",
   "nbconvert_exporter": "python",
   "pygments_lexer": "ipython3",
   "version": "3.7.6"
  }
 },
 "nbformat": 4,
 "nbformat_minor": 4
}
