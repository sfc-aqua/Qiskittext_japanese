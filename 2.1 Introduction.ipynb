{
 "cells": [
  {
   "cell_type": "markdown",
   "metadata": {},
   "source": [
    "# Introduction"
   ]
  },
  {
   "cell_type": "markdown",
   "metadata": {},
   "source": [
    "単一qubitと単一qubitゲートの興味深い効果をいくつか見てきましたが、量子コンピューティングの真の力は、qubit間の相互作用によって実現されます。このセクションでは、複数のqubitゲートを紹介し、マルチキュービットシステムの興味深い動作を探ります。"
   ]
  },
  {
   "cell_type": "markdown",
   "metadata": {},
   "source": [
    "通常、ハードウェアに直接実装できるゲートは、1つまたは2つのqubitにのみ作用します。しかし、実際の回路では、多数のqubitに作用する複雑なゲートを使用したい時があります。幸い、これは問題にはなりません。ハードウェアから提供される1つおよび2つのqubitゲートを使用して、他のゲートを構築することが可能です。"
   ]
  },
  {
   "cell_type": "markdown",
   "metadata": {},
   "source": [
    "この章では、最初に最も基本的なマルチキュービットゲートと、それらの説明および分析をするために使用される数が買うを紹介します。次に、これらのゲートを使用して量子アルゴリズムを作成できることを証明する方法を示します。次に、量子ゲートの小規模な使用法を見て、この賞を締めくくります。例えば、Toffoliのような3qubitゲートを1qubit操作と2qubit操作から構築する方法を示します。"
   ]
  },
  {
   "cell_type": "code",
   "execution_count": null,
   "metadata": {},
   "outputs": [],
   "source": []
  }
 ],
 "metadata": {
  "kernelspec": {
   "display_name": "Python 3",
   "language": "python",
   "name": "python3"
  },
  "language_info": {
   "codemirror_mode": {
    "name": "ipython",
    "version": 3
   },
   "file_extension": ".py",
   "mimetype": "text/x-python",
   "name": "python",
   "nbconvert_exporter": "python",
   "pygments_lexer": "ipython3",
   "version": "3.7.6"
  }
 },
 "nbformat": 4,
 "nbformat_minor": 4
}
