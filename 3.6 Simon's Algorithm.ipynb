{
 "cells": [
  {
   "cell_type": "markdown",
   "metadata": {},
   "source": [
    "# Simon's Algorithm"
   ]
  },
  {
   "cell_type": "markdown",
   "metadata": {},
   "source": [
    "このセクションでは、最初に\"Simon problem\"とそれを解決するための古典的アルゴリズムと量子アルゴリズムを紹介します。次に、Qiskitを使用して量子アルゴリズムを実装し、シミュレーターとデバイスで実行します。"
   ]
  },
  {
   "cell_type": "markdown",
   "metadata": {},
   "source": [
    "## 1. Introduction"
   ]
  },
  {
   "cell_type": "markdown",
   "metadata": {},
   "source": [
    "Simon's Algorithmは、特定の問題を解決する上で、古典的なアルゴリズムに対して指数関数的な高速化を示した最初の量子アルゴリズムでした。これは、最も有名な量子アルゴリズムである\"Shor's factoring algorithm\"(Shorの因数分解アルゴリズム)で使用されている量子フーリエ変換に基づく量子アルゴリズムに影響を与えました。"
   ]
  },
  {
   "cell_type": "markdown",
   "metadata": {},
   "source": [
    "#### 1a. Simon's Problem"
   ]
  },
  {
   "cell_type": "markdown",
   "metadata": {},
   "source": [
    "未知のブラックボックス関数$f$が与えられます。これは、1対1(1:1)または2対1(2:1)であることが保証されている、1対1及び2対1の関数です。次のプロパティがあります。"
   ]
  },
  {
   "cell_type": "markdown",
   "metadata": {},
   "source": [
    "・ 1対1:全ての入力に対して1つの出力をマップします。4つの入力を受け取る関数の例は次の通りです。"
   ]
  },
  {
   "cell_type": "markdown",
   "metadata": {},
   "source": [
    "$\\quad \\quad \\quad f(1) \\rightarrow 1,\\quad f(2) \\rightarrow 2,\\quad f(3) \\rightarrow 3, \\quad f(4) \\rightarrow 4$"
   ]
  },
  {
   "cell_type": "markdown",
   "metadata": {},
   "source": [
    "・2対2:maps exactly two inputs to every unique output. An example with a  function that takes 4 inputs is:"
   ]
  },
  {
   "cell_type": "markdown",
   "metadata": {},
   "source": [
    "$\\quad \\quad \\quad f(1) \\rightarrow 1,\\quad f(2) \\rightarrow 2,\\quad f(3) \\rightarrow 1, \\quad f(4) \\rightarrow 2$"
   ]
  },
  {
   "cell_type": "markdown",
   "metadata": {},
   "source": [
    "この2対1のマッピングは、非表示のビット文字列\"b\"に従っています。ここで、"
   ]
  },
  {
   "cell_type": "markdown",
   "metadata": {},
   "source": [
    "$\\quad \\quad \\quad given\\,  x_1, \\, x_2\\,\\,： f(x_1)=f(x_2)$"
   ]
  },
  {
   "cell_type": "markdown",
   "metadata": {},
   "source": [
    "$\\quad \\quad \\quad it \\, is \\, guaranteed\\,\\, ：x_1⊕x_2=b$"
   ]
  },
  {
   "cell_type": "markdown",
   "metadata": {},
   "source": [
    "このブラックボックス$f$が与えられた場合、$f$が1対1であるかあ2対1であるかをどのくらい迅速に判断できますか？次に、$f$が2対1であることが判明した場合、$b$をどのくらい迅速に決定できますか？結局のところ、どちらの場合も$b$を見つけるという同じ問題に要約されています。ここで、$b=000\\ldots$のビット文字列は1対1の$f$を表します。"
   ]
  },
  {
   "cell_type": "markdown",
   "metadata": {},
   "source": [
    "#### 1b.Simon's Algorithm"
   ]
  },
  {
   "cell_type": "markdown",
   "metadata": {},
   "source": [
    "##### Classical Solution"
   ]
  },
  {
   "cell_type": "code",
   "execution_count": null,
   "metadata": {},
   "outputs": [],
   "source": []
  }
 ],
 "metadata": {
  "kernelspec": {
   "display_name": "Python 3",
   "language": "python",
   "name": "python3"
  },
  "language_info": {
   "codemirror_mode": {
    "name": "ipython",
    "version": 3
   },
   "file_extension": ".py",
   "mimetype": "text/x-python",
   "name": "python",
   "nbconvert_exporter": "python",
   "pygments_lexer": "ipython3",
   "version": "3.7.6"
  }
 },
 "nbformat": 4,
 "nbformat_minor": 4
}
