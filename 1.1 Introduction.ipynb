{
 "cells": [
  {
   "cell_type": "markdown",
   "metadata": {},
   "source": [
    "# Introduction"
   ]
  },
  {
   "cell_type": "markdown",
   "metadata": {},
   "source": [
    "量子力学が困難に聞こえるなら、あなたは一人ではありません。\n",
    "私たちの直感はすべて、日々の経験に基づいている為、原子や電子よりもボールやバナナの動作を理解するのに優れている。\n",
    "量子オブジェクトは最初はランダムで無秩序に見えるかもしれないが、それらは異なるルールセットに従っているだけです。それらのルールが分かったら、それらを使用して新しい強力なテクノロジーを作れます。\n",
    "量子コンピューティングは、その最も革新的な例です。"
   ]
  },
  {
   "cell_type": "markdown",
   "metadata": {},
   "source": [
    "量子コンピューティングへの旅を始める為に、すでに知っていることをテストしましょう。\n",
    "次のうち、どれがビットに関する正しい説明ですか？"
   ]
  },
  {
   "cell_type": "markdown",
   "metadata": {},
   "source": [
    "・大工が使用する刃\n",
    "・情報の最小単位:0または1\n",
    "・馬の口に入れた何か"
   ]
  },
  {
   "cell_type": "markdown",
   "metadata": {},
   "source": [
    "実は、これらはすべて正解です。しかし、2つ目を選択した場合、それは既に正しい方向で考えている事を示します。\n",
    "情報を一連の0と1として保存及び処理できるという考えは、概念的に非常に大きなハードルですが、今日のほとんどの人は、それについて何も考えずに知っています。\n",
    "これを出発点として、量子力学の規則に従うビットを想像し始めることができます。これらの量子ビット(qubits)は、新しい方法で情報を処理できるようにします。"
   ]
  },
  {
   "cell_type": "markdown",
   "metadata": {},
   "source": [
    "量子ビットの世界を、より深く掘り下げて行きます。\n",
    "その為には、ゲートを適用した時に彼らが何をしているか追跡する何らかの方法が必要です。これを行う最も強力な方法は、ベクトルと行列の数学言語を使用することです。"
   ]
  },
  {
   "cell_type": "markdown",
   "metadata": {},
   "source": [
    "この章は、ベクトルと行列に既に精通している読者に最も効果的です。\n",
    "不慣れな方も大丈夫でしょうが、時々前の章の\"Introduction of Linear Algebra for Quantum Computing\"を参照すると有用かもしれません。"
   ]
  },
  {
   "cell_type": "markdown",
   "metadata": {},
   "source": [
    "量子計算用のPythonベースのフレームワークであるQiskitを使用するので、Pythonの基本を知ることも役立ちます。入門書が必要な場合は、\"Introduction to Python and Jupyter notebooks\"を参照して下さい。"
   ]
  }
 ],
 "metadata": {
  "kernelspec": {
   "display_name": "Python 3",
   "language": "python",
   "name": "python3"
  },
  "language_info": {
   "codemirror_mode": {
    "name": "ipython",
    "version": 3
   },
   "file_extension": ".py",
   "mimetype": "text/x-python",
   "name": "python",
   "nbconvert_exporter": "python",
   "pygments_lexer": "ipython3",
   "version": "3.7.6"
  }
 },
 "nbformat": 4,
 "nbformat_minor": 4
}
